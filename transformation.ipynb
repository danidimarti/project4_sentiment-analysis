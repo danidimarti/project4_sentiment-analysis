{
 "cells": [
  {
   "attachments": {},
   "cell_type": "markdown",
   "metadata": {},
   "source": [
    "### Exploring the data from extraction"
   ]
  },
  {
   "cell_type": "code",
   "execution_count": 159,
   "metadata": {},
   "outputs": [
    {
     "name": "stdout",
     "output_type": "stream",
     "text": [
      "Requirement already satisfied: helpers in c:\\users\\danid\\miniconda3\\envs\\ironhack\\lib\\site-packages (0.2.0)\n"
     ]
    }
   ],
   "source": [
    "! pip install helpers"
   ]
  },
  {
   "cell_type": "code",
   "execution_count": 160,
   "metadata": {},
   "outputs": [
    {
     "name": "stderr",
     "output_type": "stream",
     "text": [
      "[nltk_data] Downloading package punkt to\n",
      "[nltk_data]     C:\\Users\\danid\\AppData\\Roaming\\nltk_data...\n",
      "[nltk_data]   Package punkt is already up-to-date!\n",
      "[nltk_data] Downloading package wordnet to\n",
      "[nltk_data]     C:\\Users\\danid\\AppData\\Roaming\\nltk_data...\n",
      "[nltk_data]   Package wordnet is already up-to-date!\n",
      "[nltk_data] Downloading package vader_lexicon to\n",
      "[nltk_data]     C:\\Users\\danid\\AppData\\Roaming\\nltk_data...\n",
      "[nltk_data]   Package vader_lexicon is already up-to-date!\n",
      "[nltk_data] Downloading package stopwords to\n",
      "[nltk_data]     C:\\Users\\danid\\AppData\\Roaming\\nltk_data...\n",
      "[nltk_data]   Package stopwords is already up-to-date!\n"
     ]
    }
   ],
   "source": [
    "import pandas as pd\n",
    "import sqlalchemy as alch\n",
    "from getpass import getpass\n",
    "import re\n",
    "import datetime as dt\n",
    "from helpers import *\n",
    "\n",
    "\n",
    "from nltk.tokenize import word_tokenize\n",
    "from nltk.stem import PorterStemmer\n",
    "from nltk.corpus import stopwords\n",
    "from nltk import WordNetLemmatizer\n",
    "from nltk import word_tokenize\n",
    "from nltk.sentiment.vader import SentimentIntensityAnalyzer\n",
    "import nltk.data\n",
    "import nltk \n",
    "nltk.download('punkt')\n",
    "nltk.download('wordnet')\n",
    "nltk.download('vader_lexicon')\n",
    "from nltk.corpus import stopwords\n",
    "nltk.download('stopwords')\n",
    "#stop_words = set(stopwords.words('english'))\n",
    "\n",
    "from sklearn.feature_extraction.text import CountVectorizer \n",
    "from sklearn.model_selection import train_test_split\n",
    "from sklearn.linear_model import LogisticRegression\n",
    "from sklearn.metrics import accuracy_score, classification_report, confusion_matrix, ConfusionMatrixDisplay\n",
    "\n",
    "\n",
    "from textblob import TextBlob"
   ]
  },
  {
   "attachments": {},
   "cell_type": "markdown",
   "metadata": {},
   "source": [
    "### Import csv from extraction notebook"
   ]
  },
  {
   "cell_type": "code",
   "execution_count": 161,
   "metadata": {},
   "outputs": [],
   "source": [
    "df = pd.read_csv(\"data/queen-lyrics.csv\")"
   ]
  },
  {
   "cell_type": "code",
   "execution_count": 162,
   "metadata": {},
   "outputs": [
    {
     "name": "stdout",
     "output_type": "stream",
     "text": [
      "<class 'pandas.core.frame.DataFrame'>\n",
      "RangeIndex: 194 entries, 0 to 193\n",
      "Data columns (total 9 columns):\n",
      " #   Column            Non-Null Count  Dtype \n",
      "---  ------            --------------  ----- \n",
      " 0   artist_name       194 non-null    object\n",
      " 1   album_name        194 non-null    object\n",
      " 2   album_link        194 non-null    object\n",
      " 3   album_cover       194 non-null    object\n",
      " 4   album_popularity  194 non-null    int64 \n",
      " 5   release_date      194 non-null    object\n",
      " 6   total_tracks      194 non-null    int64 \n",
      " 7   tracks            194 non-null    object\n",
      " 8   lyrics            138 non-null    object\n",
      "dtypes: int64(2), object(7)\n",
      "memory usage: 13.8+ KB\n"
     ]
    }
   ],
   "source": [
    "df.info()"
   ]
  },
  {
   "attachments": {},
   "cell_type": "markdown",
   "metadata": {},
   "source": [
    "### Tranformation and Enrichment Process:\n",
    "1. Drop NaNs\n",
    "2. Replace paranthesis, brackets, line breaks, and tabs\n",
    "3. Transform the column `release date` to datetime\n",
    "4. remove stop words and keep unique. \n",
    "4. Transform all words to lower case\n",
    "5. Apply Stem Function to eliminate words suffixes. \n",
    "6. Apply Textblob polarity method to calculate lyrics sentiment\n",
    "7. Assign category to lyrcs based on polarity"
   ]
  },
  {
   "cell_type": "code",
   "execution_count": null,
   "metadata": {},
   "outputs": [],
   "source": []
  },
  {
   "cell_type": "code",
   "execution_count": 163,
   "metadata": {},
   "outputs": [],
   "source": [
    "df.dropna(inplace=True)"
   ]
  },
  {
   "cell_type": "code",
   "execution_count": 164,
   "metadata": {},
   "outputs": [
    {
     "name": "stdout",
     "output_type": "stream",
     "text": [
      "<class 'pandas.core.frame.DataFrame'>\n",
      "Int64Index: 138 entries, 0 to 190\n",
      "Data columns (total 9 columns):\n",
      " #   Column            Non-Null Count  Dtype \n",
      "---  ------            --------------  ----- \n",
      " 0   artist_name       138 non-null    object\n",
      " 1   album_name        138 non-null    object\n",
      " 2   album_link        138 non-null    object\n",
      " 3   album_cover       138 non-null    object\n",
      " 4   album_popularity  138 non-null    int64 \n",
      " 5   release_date      138 non-null    object\n",
      " 6   total_tracks      138 non-null    int64 \n",
      " 7   tracks            138 non-null    object\n",
      " 8   lyrics            138 non-null    object\n",
      "dtypes: int64(2), object(7)\n",
      "memory usage: 10.8+ KB\n"
     ]
    }
   ],
   "source": [
    "df.info()"
   ]
  },
  {
   "cell_type": "code",
   "execution_count": 165,
   "metadata": {},
   "outputs": [],
   "source": [
    "def little_cleaning_function (df):\n",
    "    df[\"lyrics\"] = df[\"lyrics\"].str.replace(r\"\\(.+\\)\", \"\", regex=True)\n",
    "    df[\"lyrics\"] = df[\"lyrics\"].str.replace(r\"\\[.+\\]\", \"\", regex=True)\n",
    "    df[\"lyrics\"] = df[\"lyrics\"].str.replace(r\"'\", \"`\", regex=True)\n",
    "    df[\"lyrics\"] = df[\"lyrics\"].str.replace(r'lyrics', \" \", regex=True)\n",
    "    df[\"lyrics\"] = df[\"lyrics\"].str.replace(r'Lyrics', \" \", regex=True)\n",
    "    df[\"lyrics\"] = df[\"lyrics\"].str.replace(r'\\n', \" \", regex=True)\n",
    "    df[\"lyrics\"] = df[\"lyrics\"].str.replace(r'\\s+', \" \", regex=True)\n",
    "    \n",
    "    df[\"lyrics\"] = df[\"lyrics\"].str.replace(r'[-|n]na[- | a]', \" \", regex=True)  \n",
    "    return df"
   ]
  },
  {
   "cell_type": "code",
   "execution_count": 166,
   "metadata": {},
   "outputs": [
    {
     "data": {
      "text/html": [
       "<div>\n",
       "<style scoped>\n",
       "    .dataframe tbody tr th:only-of-type {\n",
       "        vertical-align: middle;\n",
       "    }\n",
       "\n",
       "    .dataframe tbody tr th {\n",
       "        vertical-align: top;\n",
       "    }\n",
       "\n",
       "    .dataframe thead th {\n",
       "        text-align: right;\n",
       "    }\n",
       "</style>\n",
       "<table border=\"1\" class=\"dataframe\">\n",
       "  <thead>\n",
       "    <tr style=\"text-align: right;\">\n",
       "      <th></th>\n",
       "      <th>artist_name</th>\n",
       "      <th>album_name</th>\n",
       "      <th>album_link</th>\n",
       "      <th>album_cover</th>\n",
       "      <th>album_popularity</th>\n",
       "      <th>release_date</th>\n",
       "      <th>total_tracks</th>\n",
       "      <th>tracks</th>\n",
       "      <th>lyrics</th>\n",
       "    </tr>\n",
       "  </thead>\n",
       "  <tbody>\n",
       "    <tr>\n",
       "      <th>0</th>\n",
       "      <td>Queen</td>\n",
       "      <td>Queen</td>\n",
       "      <td>https://open.spotify.com/album/2hZTdsWsAqlgrYG...</td>\n",
       "      <td>https://i.scdn.co/image/ab67616d0000b2731de318...</td>\n",
       "      <td>47</td>\n",
       "      <td>1973-07-13</td>\n",
       "      <td>16</td>\n",
       "      <td>Keep Yourself Alive</td>\n",
       "      <td>Keep Yourself Alive Taking off I was told a mi...</td>\n",
       "    </tr>\n",
       "    <tr>\n",
       "      <th>1</th>\n",
       "      <td>Queen</td>\n",
       "      <td>Queen</td>\n",
       "      <td>https://open.spotify.com/album/2hZTdsWsAqlgrYG...</td>\n",
       "      <td>https://i.scdn.co/image/ab67616d0000b2731de318...</td>\n",
       "      <td>47</td>\n",
       "      <td>1973-07-13</td>\n",
       "      <td>16</td>\n",
       "      <td>Doing Alright</td>\n",
       "      <td>Suicide Sally &amp; Johnny Guitar Suicide Sally an...</td>\n",
       "    </tr>\n",
       "    <tr>\n",
       "      <th>2</th>\n",
       "      <td>Queen</td>\n",
       "      <td>Queen</td>\n",
       "      <td>https://open.spotify.com/album/2hZTdsWsAqlgrYG...</td>\n",
       "      <td>https://i.scdn.co/image/ab67616d0000b2731de318...</td>\n",
       "      <td>47</td>\n",
       "      <td>1973-07-13</td>\n",
       "      <td>16</td>\n",
       "      <td>Great King Rat</td>\n",
       "      <td>Great King Rat Great King Rat died today Born ...</td>\n",
       "    </tr>\n",
       "    <tr>\n",
       "      <th>5</th>\n",
       "      <td>Queen</td>\n",
       "      <td>Queen</td>\n",
       "      <td>https://open.spotify.com/album/2hZTdsWsAqlgrYG...</td>\n",
       "      <td>https://i.scdn.co/image/ab67616d0000b2731de318...</td>\n",
       "      <td>47</td>\n",
       "      <td>1973-07-13</td>\n",
       "      <td>16</td>\n",
       "      <td>The Night Comes Down</td>\n",
       "      <td>The Night Comes Down When I was young it came ...</td>\n",
       "    </tr>\n",
       "    <tr>\n",
       "      <th>8</th>\n",
       "      <td>Queen</td>\n",
       "      <td>Queen</td>\n",
       "      <td>https://open.spotify.com/album/2hZTdsWsAqlgrYG...</td>\n",
       "      <td>https://i.scdn.co/image/ab67616d0000b2731de318...</td>\n",
       "      <td>47</td>\n",
       "      <td>1973-07-13</td>\n",
       "      <td>16</td>\n",
       "      <td>Jesus</td>\n",
       "      <td>Jesus And then I saw Him in the crowd A lot of...</td>\n",
       "    </tr>\n",
       "    <tr>\n",
       "      <th>...</th>\n",
       "      <td>...</td>\n",
       "      <td>...</td>\n",
       "      <td>...</td>\n",
       "      <td>...</td>\n",
       "      <td>...</td>\n",
       "      <td>...</td>\n",
       "      <td>...</td>\n",
       "      <td>...</td>\n",
       "      <td>...</td>\n",
       "    </tr>\n",
       "    <tr>\n",
       "      <th>179</th>\n",
       "      <td>Queen</td>\n",
       "      <td>The Game</td>\n",
       "      <td>https://open.spotify.com/album/58alCatewkjNm9I...</td>\n",
       "      <td>https://i.scdn.co/image/ab67616d0000b273056e90...</td>\n",
       "      <td>77</td>\n",
       "      <td>1980-06-27</td>\n",
       "      <td>10</td>\n",
       "      <td>Coming Soon</td>\n",
       "      <td>Coming Soon Uuuh, uuuh, uuuh Oh, o-ooh, ooh, o...</td>\n",
       "    </tr>\n",
       "    <tr>\n",
       "      <th>180</th>\n",
       "      <td>Queen</td>\n",
       "      <td>The Game</td>\n",
       "      <td>https://open.spotify.com/album/58alCatewkjNm9I...</td>\n",
       "      <td>https://i.scdn.co/image/ab67616d0000b273056e90...</td>\n",
       "      <td>77</td>\n",
       "      <td>1980-06-27</td>\n",
       "      <td>10</td>\n",
       "      <td>Save Me</td>\n",
       "      <td>Save Me It started off so well They said we ma...</td>\n",
       "    </tr>\n",
       "    <tr>\n",
       "      <th>183</th>\n",
       "      <td>Queen</td>\n",
       "      <td>Jazz</td>\n",
       "      <td>https://open.spotify.com/album/2yuTRGIackbcReL...</td>\n",
       "      <td>https://i.scdn.co/image/ab67616d0000b2737c39dd...</td>\n",
       "      <td>75</td>\n",
       "      <td>1978-11-10</td>\n",
       "      <td>13</td>\n",
       "      <td>Jealousy</td>\n",
       "      <td>Jealousy Oh, how wrong can you be? Oh, to fall...</td>\n",
       "    </tr>\n",
       "    <tr>\n",
       "      <th>188</th>\n",
       "      <td>Queen</td>\n",
       "      <td>Jazz</td>\n",
       "      <td>https://open.spotify.com/album/2yuTRGIackbcReL...</td>\n",
       "      <td>https://i.scdn.co/image/ab67616d0000b2737c39dd...</td>\n",
       "      <td>75</td>\n",
       "      <td>1978-11-10</td>\n",
       "      <td>13</td>\n",
       "      <td>In Only Seven Days</td>\n",
       "      <td>In Only Seven Days Monday Start of my holiday ...</td>\n",
       "    </tr>\n",
       "    <tr>\n",
       "      <th>190</th>\n",
       "      <td>Queen</td>\n",
       "      <td>Jazz</td>\n",
       "      <td>https://open.spotify.com/album/2yuTRGIackbcReL...</td>\n",
       "      <td>https://i.scdn.co/image/ab67616d0000b2737c39dd...</td>\n",
       "      <td>75</td>\n",
       "      <td>1978-11-10</td>\n",
       "      <td>13</td>\n",
       "      <td>Fun It</td>\n",
       "      <td>Fun It Everybody in the morning Should do a go...</td>\n",
       "    </tr>\n",
       "  </tbody>\n",
       "</table>\n",
       "<p>138 rows × 9 columns</p>\n",
       "</div>"
      ],
      "text/plain": [
       "    artist_name album_name                                         album_link  \\\n",
       "0         Queen      Queen  https://open.spotify.com/album/2hZTdsWsAqlgrYG...   \n",
       "1         Queen      Queen  https://open.spotify.com/album/2hZTdsWsAqlgrYG...   \n",
       "2         Queen      Queen  https://open.spotify.com/album/2hZTdsWsAqlgrYG...   \n",
       "5         Queen      Queen  https://open.spotify.com/album/2hZTdsWsAqlgrYG...   \n",
       "8         Queen      Queen  https://open.spotify.com/album/2hZTdsWsAqlgrYG...   \n",
       "..          ...        ...                                                ...   \n",
       "179       Queen   The Game  https://open.spotify.com/album/58alCatewkjNm9I...   \n",
       "180       Queen   The Game  https://open.spotify.com/album/58alCatewkjNm9I...   \n",
       "183       Queen       Jazz  https://open.spotify.com/album/2yuTRGIackbcReL...   \n",
       "188       Queen       Jazz  https://open.spotify.com/album/2yuTRGIackbcReL...   \n",
       "190       Queen       Jazz  https://open.spotify.com/album/2yuTRGIackbcReL...   \n",
       "\n",
       "                                           album_cover  album_popularity  \\\n",
       "0    https://i.scdn.co/image/ab67616d0000b2731de318...                47   \n",
       "1    https://i.scdn.co/image/ab67616d0000b2731de318...                47   \n",
       "2    https://i.scdn.co/image/ab67616d0000b2731de318...                47   \n",
       "5    https://i.scdn.co/image/ab67616d0000b2731de318...                47   \n",
       "8    https://i.scdn.co/image/ab67616d0000b2731de318...                47   \n",
       "..                                                 ...               ...   \n",
       "179  https://i.scdn.co/image/ab67616d0000b273056e90...                77   \n",
       "180  https://i.scdn.co/image/ab67616d0000b273056e90...                77   \n",
       "183  https://i.scdn.co/image/ab67616d0000b2737c39dd...                75   \n",
       "188  https://i.scdn.co/image/ab67616d0000b2737c39dd...                75   \n",
       "190  https://i.scdn.co/image/ab67616d0000b2737c39dd...                75   \n",
       "\n",
       "    release_date  total_tracks                 tracks  \\\n",
       "0     1973-07-13            16   Keep Yourself Alive    \n",
       "1     1973-07-13            16         Doing Alright    \n",
       "2     1973-07-13            16        Great King Rat    \n",
       "5     1973-07-13            16  The Night Comes Down    \n",
       "8     1973-07-13            16                 Jesus    \n",
       "..           ...           ...                    ...   \n",
       "179   1980-06-27            10           Coming Soon    \n",
       "180   1980-06-27            10               Save Me    \n",
       "183   1978-11-10            13              Jealousy    \n",
       "188   1978-11-10            13    In Only Seven Days    \n",
       "190   1978-11-10            13                Fun It    \n",
       "\n",
       "                                                lyrics  \n",
       "0    Keep Yourself Alive Taking off I was told a mi...  \n",
       "1    Suicide Sally & Johnny Guitar Suicide Sally an...  \n",
       "2    Great King Rat Great King Rat died today Born ...  \n",
       "5    The Night Comes Down When I was young it came ...  \n",
       "8    Jesus And then I saw Him in the crowd A lot of...  \n",
       "..                                                 ...  \n",
       "179  Coming Soon Uuuh, uuuh, uuuh Oh, o-ooh, ooh, o...  \n",
       "180  Save Me It started off so well They said we ma...  \n",
       "183  Jealousy Oh, how wrong can you be? Oh, to fall...  \n",
       "188  In Only Seven Days Monday Start of my holiday ...  \n",
       "190  Fun It Everybody in the morning Should do a go...  \n",
       "\n",
       "[138 rows x 9 columns]"
      ]
     },
     "execution_count": 166,
     "metadata": {},
     "output_type": "execute_result"
    }
   ],
   "source": [
    "little_cleaning_function (df)"
   ]
  },
  {
   "cell_type": "code",
   "execution_count": 167,
   "metadata": {},
   "outputs": [],
   "source": [
    "df['release_date'] = pd.to_datetime(df['release_date'], dayfirst=True)"
   ]
  },
  {
   "cell_type": "code",
   "execution_count": 168,
   "metadata": {},
   "outputs": [],
   "source": [
    "df['release_year'] = pd.DatetimeIndex(df['release_date']).year"
   ]
  },
  {
   "cell_type": "code",
   "execution_count": 169,
   "metadata": {},
   "outputs": [
    {
     "data": {
      "text/html": [
       "<div>\n",
       "<style scoped>\n",
       "    .dataframe tbody tr th:only-of-type {\n",
       "        vertical-align: middle;\n",
       "    }\n",
       "\n",
       "    .dataframe tbody tr th {\n",
       "        vertical-align: top;\n",
       "    }\n",
       "\n",
       "    .dataframe thead th {\n",
       "        text-align: right;\n",
       "    }\n",
       "</style>\n",
       "<table border=\"1\" class=\"dataframe\">\n",
       "  <thead>\n",
       "    <tr style=\"text-align: right;\">\n",
       "      <th></th>\n",
       "      <th>artist_name</th>\n",
       "      <th>album_name</th>\n",
       "      <th>album_link</th>\n",
       "      <th>album_cover</th>\n",
       "      <th>album_popularity</th>\n",
       "      <th>release_date</th>\n",
       "      <th>total_tracks</th>\n",
       "      <th>tracks</th>\n",
       "      <th>lyrics</th>\n",
       "      <th>release_year</th>\n",
       "    </tr>\n",
       "  </thead>\n",
       "  <tbody>\n",
       "    <tr>\n",
       "      <th>178</th>\n",
       "      <td>Queen</td>\n",
       "      <td>The Game</td>\n",
       "      <td>https://open.spotify.com/album/58alCatewkjNm9I...</td>\n",
       "      <td>https://i.scdn.co/image/ab67616d0000b273056e90...</td>\n",
       "      <td>77</td>\n",
       "      <td>1980-06-27</td>\n",
       "      <td>10</td>\n",
       "      <td>Sail Away Sweet Sister</td>\n",
       "      <td>Sail Away Sweet Sister Hey, little babe, you`r...</td>\n",
       "      <td>1980</td>\n",
       "    </tr>\n",
       "  </tbody>\n",
       "</table>\n",
       "</div>"
      ],
      "text/plain": [
       "    artist_name album_name                                         album_link  \\\n",
       "178       Queen   The Game  https://open.spotify.com/album/58alCatewkjNm9I...   \n",
       "\n",
       "                                           album_cover  album_popularity  \\\n",
       "178  https://i.scdn.co/image/ab67616d0000b273056e90...                77   \n",
       "\n",
       "    release_date  total_tracks                   tracks  \\\n",
       "178   1980-06-27            10  Sail Away Sweet Sister    \n",
       "\n",
       "                                                lyrics  release_year  \n",
       "178  Sail Away Sweet Sister Hey, little babe, you`r...          1980  "
      ]
     },
     "execution_count": 169,
     "metadata": {},
     "output_type": "execute_result"
    }
   ],
   "source": [
    "df.sample()"
   ]
  },
  {
   "attachments": {},
   "cell_type": "markdown",
   "metadata": {},
   "source": [
    "### Create DataFrame of words to look at how they use words in different decades"
   ]
  },
  {
   "cell_type": "code",
   "execution_count": 170,
   "metadata": {},
   "outputs": [],
   "source": [
    "def tokenize(text):\n",
    "    text_tokens = word_tokenize(text)\n",
    "    tokens_without_sw = [word for word in text_tokens if not word in stopwords.words()]\n",
    "    return tokens_without_sw"
   ]
  },
  {
   "cell_type": "code",
   "execution_count": 171,
   "metadata": {},
   "outputs": [],
   "source": [
    "df['cleaned_lyrics'] = df['lyrics'].apply(tokenize)\n"
   ]
  },
  {
   "cell_type": "code",
   "execution_count": 172,
   "metadata": {},
   "outputs": [],
   "source": [
    "def unique_words(text):\n",
    "    unique = []\n",
    "    for word in text:\n",
    "        if word not in unique:\n",
    "            unique.append(word)\n",
    "    return unique"
   ]
  },
  {
   "cell_type": "code",
   "execution_count": 173,
   "metadata": {},
   "outputs": [],
   "source": [
    "df['cleaned_lyrics'] = df['cleaned_lyrics'].apply(unique_words)\n",
    "\n",
    "\n"
   ]
  },
  {
   "cell_type": "code",
   "execution_count": 174,
   "metadata": {},
   "outputs": [],
   "source": [
    "df_2 = df.explode('cleaned_lyrics')[['release_year', 'cleaned_lyrics']]"
   ]
  },
  {
   "cell_type": "code",
   "execution_count": 175,
   "metadata": {},
   "outputs": [
    {
     "data": {
      "text/html": [
       "<div>\n",
       "<style scoped>\n",
       "    .dataframe tbody tr th:only-of-type {\n",
       "        vertical-align: middle;\n",
       "    }\n",
       "\n",
       "    .dataframe tbody tr th {\n",
       "        vertical-align: top;\n",
       "    }\n",
       "\n",
       "    .dataframe thead th {\n",
       "        text-align: right;\n",
       "    }\n",
       "</style>\n",
       "<table border=\"1\" class=\"dataframe\">\n",
       "  <thead>\n",
       "    <tr style=\"text-align: right;\">\n",
       "      <th></th>\n",
       "      <th>release_year</th>\n",
       "      <th>cleaned_lyrics</th>\n",
       "    </tr>\n",
       "  </thead>\n",
       "  <tbody>\n",
       "    <tr>\n",
       "      <th>0</th>\n",
       "      <td>1973</td>\n",
       "      <td>Keep</td>\n",
       "    </tr>\n",
       "    <tr>\n",
       "      <th>0</th>\n",
       "      <td>1973</td>\n",
       "      <td>Yourself</td>\n",
       "    </tr>\n",
       "    <tr>\n",
       "      <th>0</th>\n",
       "      <td>1973</td>\n",
       "      <td>Alive</td>\n",
       "    </tr>\n",
       "    <tr>\n",
       "      <th>0</th>\n",
       "      <td>1973</td>\n",
       "      <td>Taking</td>\n",
       "    </tr>\n",
       "    <tr>\n",
       "      <th>0</th>\n",
       "      <td>1973</td>\n",
       "      <td>I</td>\n",
       "    </tr>\n",
       "    <tr>\n",
       "      <th>...</th>\n",
       "      <td>...</td>\n",
       "      <td>...</td>\n",
       "    </tr>\n",
       "    <tr>\n",
       "      <th>190</th>\n",
       "      <td>1978</td>\n",
       "      <td>tricks</td>\n",
       "    </tr>\n",
       "    <tr>\n",
       "      <th>190</th>\n",
       "      <td>1978</td>\n",
       "      <td>dance</td>\n",
       "    </tr>\n",
       "    <tr>\n",
       "      <th>190</th>\n",
       "      <td>1978</td>\n",
       "      <td>honey</td>\n",
       "    </tr>\n",
       "    <tr>\n",
       "      <th>190</th>\n",
       "      <td>1978</td>\n",
       "      <td>Time</td>\n",
       "    </tr>\n",
       "    <tr>\n",
       "      <th>190</th>\n",
       "      <td>1978</td>\n",
       "      <td>it23Embed</td>\n",
       "    </tr>\n",
       "  </tbody>\n",
       "</table>\n",
       "<p>8719 rows × 2 columns</p>\n",
       "</div>"
      ],
      "text/plain": [
       "     release_year cleaned_lyrics\n",
       "0            1973           Keep\n",
       "0            1973       Yourself\n",
       "0            1973          Alive\n",
       "0            1973         Taking\n",
       "0            1973              I\n",
       "..            ...            ...\n",
       "190          1978         tricks\n",
       "190          1978          dance\n",
       "190          1978          honey\n",
       "190          1978           Time\n",
       "190          1978      it23Embed\n",
       "\n",
       "[8719 rows x 2 columns]"
      ]
     },
     "execution_count": 175,
     "metadata": {},
     "output_type": "execute_result"
    }
   ],
   "source": [
    "df_2"
   ]
  },
  {
   "cell_type": "code",
   "execution_count": 176,
   "metadata": {},
   "outputs": [],
   "source": [
    "df_2.to_csv(\"data/words_analysis.csv\", index=False)"
   ]
  },
  {
   "cell_type": "code",
   "execution_count": 177,
   "metadata": {},
   "outputs": [],
   "source": [
    "# 1. create function that handles all the text processing. \n",
    "# 2. pass data through function\n",
    "def data_processing(lyrics):\n",
    "    lyrics = lyrics.lower()\n",
    "   \n",
    "    return lyrics"
   ]
  },
  {
   "cell_type": "code",
   "execution_count": 178,
   "metadata": {},
   "outputs": [],
   "source": [
    "df['lyrics'] = df['lyrics'].apply(data_processing)"
   ]
  },
  {
   "cell_type": "code",
   "execution_count": 179,
   "metadata": {},
   "outputs": [
    {
     "name": "stdout",
     "output_type": "stream",
     "text": [
      "keep yourself alive taking off i was told a million times of all the troubles in my way mind you grow a little wiser, little better every day but if i crossed a million rivers and i rode a million miles then i`d still be where i started, bread and butter for a smile well, i sold a million mirrors in a shop in alley way but i never saw my face in any window any day now they say your folks are telling you, “be a superstar” but i tell you, just be satisfied and stay right where you are keep yourself alive , keep yourself alive take you all your time and-a money, honey, you`ll survive well, i`ve loved a million women in a belladonic haze and i ate a million dinners brought to me on silver trays give me everything i need to feed my body and my soul and i`ll grow a little bigger, maybe that can be my goal i was told a million times of all the people in my way how i had to keep on trying and get better every day but if i crossed a million rivers and i rode a million miles then i`d still be where i started, same as when i started you might also like keep yourself alive , keep yourself alive take you all your time and-a money, honey, you`ll survive keep yourself alive , keep yourself alive oh, take you all your time and-a money to keep me satisfied do you think you`re better every day? no, i just think i`m two steps nearer to my grave keep yourself alive , keep yourself alive you take your time and take my money, keep yourself alive keep yourself alive , keep yourself alive all you people, keep yourself alive keep yourself alive , keep yourself alive take you all your time and-a money to keep me satisfied keep yourself alive, keep yourself alive all you people, keep yourself alive take you all your time and money, honey, you will survive keep you satisfied, keep yourself alive…17embed \n",
      "\n",
      "suicide sally & johnny guitar suicide sally and johnny guitar she overdosed and crashed in her car amphetamine jab, shot a hole in his head ran out of veins, ran out of friends alright, alright, oh baby baby, you`re doing alright alright, alright, oh baby baby, you`re doing alright gearhead candy is a natural queen bed motorcycle, you know what i mean she got her wings, giving head to a priest the fucker choked on his rosary beads alright, alright, oh baby baby, you`re doing alright alright, alright, oh baby baby, you`re doing alright alright, alright, oh baby baby, you`re doing alright alright, alright, oh baby baby, you`re doing alright stone cold sally is a stubbled whore her face is plastic, so is her soul she hates her body she is a he striptease and pre-teased, feeling diseased alright, alright, oh baby baby, you`re doing alright alright, alright, oh baby baby, you`re doing alright hey rock`n`roll doctor rocknroll nurse gimme a shot gimme some pills i dont need a knife i dont need a gun i gotta crown made of human skull alright, alright, oh baby baby, you`re doing alright alright, alright, oh baby baby, you`re doing alright alright, alright, oh baby baby, you`re doing alright alright, alright, oh baby baby, you`re doing alright you might also likena na- na na  na naa na na- na na  na naa na na- na na  na naa na na- na na  na naa na na- na na  na naa na na- na na  na naa na na- na na  na naa na na- na na  na naa, rock and roll doctorembed \n",
      "\n",
      "great king rat great king rat died today born on the twenty-first of may died, syphilis, forty-four on his birthday every second word he swore yes, he was the son of a whore always wanted by the law wouldn`t you like to know? wouldn`t you like to know, people? great king rat was a dirty old man and a dirty old man was he now what did i tell you? would you like to see? now hear this where will i be tomorrow? will i beg? will i borrow? i don`t care, i don`t care come on, come on, the time is right the man is evil and that is right i told you and that`s no lie you might also like wouldn`t you like to know? wouldn`t you like to know? wouldn`t you like to know? great king rat was a dirty old man and a dirty old man was he now what did i tell you? would you like to see? show me! wouldn`t you like to know? wouldn`t you like to know? people great king rat was a dirty old man and a dirty old man was he now what did i tell you? would you like to see? hit it! now listen, all you people put out the good and keep the bad don`t believe all you read in the bible you sinners get in line saints you leave far behind very soon you`re go be his disciple don`t listen to what mama says not a word, not a word mama says or else you`ll find yourself being the rival the great lord, before he died knelt sinners by his side and said \"you`re going to realize tomorrow\" no, i`m not go tell you what you already know `cause time and time again the old man said it all a long time ago come, come on, the time is right this evil man will fight i told you once before wouldn`t you like to know? wouldn`t you like to know? just like i said before great king rat was a dirty old man and a dirty old man was he the last time i tell you would you like to see? 6embed \n",
      "\n",
      "the night comes down when i was young it came to me and i could see the sun breaking lucy was high and so was i dazzling, holding the world inside once i believed in everyone everyone and anyone can see oh-oh, the night comes down and i get afraid of losing my way oh-oh, the night comes down ooh, and it`s dark again once i could laugh with everyone once i could see the good in me the black and the white distinctively colouring, holding the world inside now all the world is grey to me nobody can see you gotta believe it oh-oh, the night comes down and i get afraid of losing my way oh-oh, the night comes down oooh, and it`s dark again and it`s dark again and it`s dark again you might also like7embed \n",
      "\n",
      "jesus and then i saw him in the crowd a lot of people had gathered `round him the beggars shouted, the lepers called him the old man said nothing he just stared about him all going down to see the lord jesus all going down to see the lord jesus all going down then came a man before his feet he fell unclean, said the leper and rang his bell felt the palm of a hand touch his head go now, go now you`re a new man instead all going down to see the lord jesus all going down to see the lord jesus all going down you might also like it all began with the three wise men followed a star, took them to bethlehem and made it heard throughout the land born was a leader of man all going down to see the lord jesus all going down to see the lord jesus all going down it all began with the three wise men followed a star, took them to bethlehem and made it heard throughout the land born was a leader of man, that`s right all going down to see the lord jesus all going down to see the lord jesus all going down1embed \n",
      "\n"
     ]
    }
   ],
   "source": [
    "print(df['lyrics'].iloc[0], '\\n')\n",
    "print(df['lyrics'].iloc[1], '\\n')\n",
    "print(df['lyrics'].iloc[2], '\\n')\n",
    "print(df['lyrics'].iloc[3], '\\n')\n",
    "print(df['lyrics'].iloc[4], '\\n')"
   ]
  },
  {
   "attachments": {},
   "cell_type": "markdown",
   "metadata": {},
   "source": [
    "### NLP / Sentiment Analysis of QUEEN'S LYRICS"
   ]
  },
  {
   "cell_type": "code",
   "execution_count": null,
   "metadata": {},
   "outputs": [],
   "source": []
  },
  {
   "cell_type": "code",
   "execution_count": 180,
   "metadata": {},
   "outputs": [],
   "source": [
    "stemer = PorterStemmer()\n",
    "\n",
    "def stemming(df):\n",
    "    lyrics = [stemer.stem(word) for word in df]\n",
    "    return df\n"
   ]
  },
  {
   "cell_type": "code",
   "execution_count": 181,
   "metadata": {},
   "outputs": [],
   "source": [
    "df['lyrics'] = df['lyrics'].apply(lambda x: stemming(x))"
   ]
  },
  {
   "cell_type": "code",
   "execution_count": 182,
   "metadata": {},
   "outputs": [],
   "source": [
    "def polarity(line):\n",
    "    return TextBlob(line).sentiment.polarity"
   ]
  },
  {
   "cell_type": "code",
   "execution_count": 183,
   "metadata": {},
   "outputs": [],
   "source": [
    "df['polarity'] = df['lyrics'].apply(polarity)"
   ]
  },
  {
   "cell_type": "code",
   "execution_count": 184,
   "metadata": {},
   "outputs": [],
   "source": [
    "def sentiment(label):\n",
    "    if label < 0:\n",
    "        return 'feeling the blues :('\n",
    "    elif label == 0:\n",
    "        return 'elevator song :|'\n",
    "    elif label > 0:\n",
    "        return 'good times :D'"
   ]
  },
  {
   "cell_type": "code",
   "execution_count": 185,
   "metadata": {},
   "outputs": [],
   "source": [
    "df['sentiment'] = df['polarity'].apply(sentiment)"
   ]
  },
  {
   "cell_type": "code",
   "execution_count": 186,
   "metadata": {},
   "outputs": [
    {
     "data": {
      "text/html": [
       "<div>\n",
       "<style scoped>\n",
       "    .dataframe tbody tr th:only-of-type {\n",
       "        vertical-align: middle;\n",
       "    }\n",
       "\n",
       "    .dataframe tbody tr th {\n",
       "        vertical-align: top;\n",
       "    }\n",
       "\n",
       "    .dataframe thead th {\n",
       "        text-align: right;\n",
       "    }\n",
       "</style>\n",
       "<table border=\"1\" class=\"dataframe\">\n",
       "  <thead>\n",
       "    <tr style=\"text-align: right;\">\n",
       "      <th></th>\n",
       "      <th>artist_name</th>\n",
       "      <th>album_name</th>\n",
       "      <th>album_link</th>\n",
       "      <th>album_cover</th>\n",
       "      <th>album_popularity</th>\n",
       "      <th>release_date</th>\n",
       "      <th>total_tracks</th>\n",
       "      <th>tracks</th>\n",
       "      <th>lyrics</th>\n",
       "      <th>release_year</th>\n",
       "      <th>cleaned_lyrics</th>\n",
       "      <th>polarity</th>\n",
       "      <th>sentiment</th>\n",
       "    </tr>\n",
       "  </thead>\n",
       "  <tbody>\n",
       "    <tr>\n",
       "      <th>130</th>\n",
       "      <td>Queen</td>\n",
       "      <td>The Works</td>\n",
       "      <td>https://open.spotify.com/album/5RS9xkMuDmeVISq...</td>\n",
       "      <td>https://i.scdn.co/image/ab67616d0000b2735be5f8...</td>\n",
       "      <td>69</td>\n",
       "      <td>1984-02-27</td>\n",
       "      <td>9</td>\n",
       "      <td>Man On The Prowl</td>\n",
       "      <td>man on the prowl hey, i`m go take a little wal...</td>\n",
       "      <td>1984</td>\n",
       "      <td>[Man, Prowl, Hey, ,, I, `, Walk, wild, side, l...</td>\n",
       "      <td>-0.038039</td>\n",
       "      <td>feeling the blues :(</td>\n",
       "    </tr>\n",
       "  </tbody>\n",
       "</table>\n",
       "</div>"
      ],
      "text/plain": [
       "    artist_name album_name                                         album_link  \\\n",
       "130       Queen  The Works  https://open.spotify.com/album/5RS9xkMuDmeVISq...   \n",
       "\n",
       "                                           album_cover  album_popularity  \\\n",
       "130  https://i.scdn.co/image/ab67616d0000b2735be5f8...                69   \n",
       "\n",
       "    release_date  total_tracks             tracks  \\\n",
       "130   1984-02-27             9  Man On The Prowl    \n",
       "\n",
       "                                                lyrics  release_year  \\\n",
       "130  man on the prowl hey, i`m go take a little wal...          1984   \n",
       "\n",
       "                                        cleaned_lyrics  polarity  \\\n",
       "130  [Man, Prowl, Hey, ,, I, `, Walk, wild, side, l... -0.038039   \n",
       "\n",
       "                sentiment  \n",
       "130  feeling the blues :(  "
      ]
     },
     "execution_count": 186,
     "metadata": {},
     "output_type": "execute_result"
    }
   ],
   "source": [
    "df.sample()"
   ]
  },
  {
   "cell_type": "code",
   "execution_count": 187,
   "metadata": {},
   "outputs": [
    {
     "data": {
      "text/plain": [
       "<AxesSubplot: xlabel='sentiment', ylabel='count'>"
      ]
     },
     "execution_count": 187,
     "metadata": {},
     "output_type": "execute_result"
    },
    {
     "data": {
      "image/png": "[encoded data removed]",
      "text/plain": [
       "<Figure size 500x500 with 1 Axes>"
      ]
     },
     "metadata": {},
     "output_type": "display_data"
    }
   ],
   "source": [
    "import matplotlib.pyplot as plt\n",
    "import seaborn as sns\n",
    "plt.style.use('ggplot')\n",
    "\n",
    "fig = plt.figure(figsize=(5,5))\n",
    "sns.countplot(x='sentiment', data=df)"
   ]
  },
  {
   "cell_type": "code",
   "execution_count": 188,
   "metadata": {},
   "outputs": [
    {
     "name": "stdout",
     "output_type": "stream",
     "text": [
      "suicide sally & johnny guitar suicide sally and johnny guitar she overdosed and crashed in her car amphetamine jab, shot a hole in his head ran out of veins, ran out of friends alright, alright, oh baby baby, you`re doing alright alright, alright, oh baby baby, you`re doing alright gearhead candy is a natural queen bed motorcycle, you know what i mean she got her wings, giving head to a priest the fucker choked on his rosary beads alright, alright, oh baby baby, you`re doing alright alright, alright, oh baby baby, you`re doing alright alright, alright, oh baby baby, you`re doing alright alright, alright, oh baby baby, you`re doing alright stone cold sally is a stubbled whore her face is plastic, so is her soul she hates her body she is a he striptease and pre-teased, feeling diseased alright, alright, oh baby baby, you`re doing alright alright, alright, oh baby baby, you`re doing alright hey rock`n`roll doctor rocknroll nurse gimme a shot gimme some pills i dont need a knife i dont need a gun i gotta crown made of human skull alright, alright, oh baby baby, you`re doing alright alright, alright, oh baby baby, you`re doing alright alright, alright, oh baby baby, you`re doing alright alright, alright, oh baby baby, you`re doing alright you might also likena na- na na  na naa na na- na na  na naa na na- na na  na naa na na- na na  na naa na na- na na  na naa na na- na na  na naa na na- na na  na naa na na- na na  na naa, rock and roll doctorembed\n"
     ]
    }
   ],
   "source": [
    "lemmatizer = WordNetLemmatizer()\n",
    "words = df[\"lyrics\"].iloc[1]\n",
    "print(lemmatizer.lemmatize(words))"
   ]
  },
  {
   "cell_type": "code",
   "execution_count": null,
   "metadata": {},
   "outputs": [],
   "source": []
  },
  {
   "cell_type": "code",
   "execution_count": null,
   "metadata": {},
   "outputs": [],
   "source": [
    "\n"
   ]
  },
  {
   "attachments": {},
   "cell_type": "markdown",
   "metadata": {},
   "source": []
  },
  {
   "cell_type": "code",
   "execution_count": null,
   "metadata": {},
   "outputs": [],
   "source": []
  },
  {
   "cell_type": "code",
   "execution_count": null,
   "metadata": {},
   "outputs": [],
   "source": []
  },
  {
   "attachments": {},
   "cell_type": "markdown",
   "metadata": {},
   "source": [
    "### Export cleaned df for loading in DB"
   ]
  },
  {
   "cell_type": "code",
   "execution_count": 189,
   "metadata": {},
   "outputs": [],
   "source": [
    "df.to_csv(\"data/cleaned-lyrics-queen.csv\", index=False)"
   ]
  },
  {
   "cell_type": "code",
   "execution_count": null,
   "metadata": {},
   "outputs": [],
   "source": []
  }
 ],
 "metadata": {
  "kernelspec": {
   "display_name": "ironhack",
   "language": "python",
   "name": "python3"
  },
  "language_info": {
   "codemirror_mode": {
    "name": "ipython",
    "version": 3
   },
   "file_extension": ".py",
   "mimetype": "text/x-python",
   "name": "python",
   "nbconvert_exporter": "python",
   "pygments_lexer": "ipython3",
   "version": "3.10.9"
  },
  "orig_nbformat": 4,
  "vscode": {
   "interpreter": {
    "hash": "f203a748e2f948e55babe9d1df90db55916c8d5c81c121b0fe342ead3910b4b3"
   }
  }
 },
 "nbformat": 4,
 "nbformat_minor": 2
}
